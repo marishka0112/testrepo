{
 "cells": [
  {
   "cell_type": "markdown",
   "id": "2c9ea784-070f-4e2e-a5ca-e515593069ac",
   "metadata": {},
   "source": [
    "# Data Science Tools And Ecosystem"
   ]
  },
  {
   "cell_type": "markdown",
   "id": "55b14af0-cb84-4da5-9cbb-d3fcc3cd879a",
   "metadata": {},
   "source": [
    "In this notebook, Data Science and ecosystem are summarized"
   ]
  },
  {
   "cell_type": "markdown",
   "id": "577101ca-31fc-4175-ad3d-bb2f9040d695",
   "metadata": {},
   "source": [
    "Some of the popular languages that Data Scientists use are:\n",
    "1. Python\n",
    "2. C++\n",
    "3. Java\n",
    "4. Java Script\n",
    "5. Scala\n",
    "6. Julia\n",
    "7. SQL\n",
    "8. C"
   ]
  },
  {
   "cell_type": "markdown",
   "id": "798c350e-1669-42cb-a5fd-99783c597479",
   "metadata": {},
   "source": [
    "Some of the commonly used libraries used by Data Scientists include:\n",
    "\n",
    "    1. Matplotlib\n",
    "    2. NumPy\n",
    "    3. Pandas\n",
    "    4. PyTorch\n",
    "    5. Tensor Flow"
   ]
  },
  {
   "cell_type": "markdown",
   "id": "0b9fcde6-51bc-45cb-b7a7-128dbedd03ec",
   "metadata": {},
   "source": [
    "|Data Science Tools|\n",
    "|----:|\n",
    "|1.RStudio|\n",
    "|2.Apache Spark|\n",
    "|3.Tensor Flow|"
   ]
  },
  {
   "cell_type": "markdown",
   "id": "3934d894-2ee5-4d37-934e-99148bb5a815",
   "metadata": {
    "tags": []
   },
   "source": [
    "# Below are a few examples of evaluating arithmetic expressions in Python\n"
   ]
  },
  {
   "cell_type": "markdown",
   "id": "7dff03c6-646e-4914-8ac9-bae7de1bcb3d",
   "metadata": {
    "tags": []
   },
   "source": [
    "### This is a simple arithmetic expression to multiply then add integers."
   ]
  },
  {
   "cell_type": "code",
   "execution_count": 4,
   "id": "ac0d9e55-3afb-4081-af28-edfd02281658",
   "metadata": {
    "tags": []
   },
   "outputs": [
    {
     "data": {
      "text/plain": [
       "17"
      ]
     },
     "execution_count": 4,
     "metadata": {},
     "output_type": "execute_result"
    }
   ],
   "source": [
    "(3*4)+5"
   ]
  },
  {
   "cell_type": "markdown",
   "id": "c42691e5-f77f-4173-8a28-9e81d9964546",
   "metadata": {},
   "source": [
    "### This will convert 200 minutes to hours by diving by 60."
   ]
  },
  {
   "cell_type": "code",
   "execution_count": 5,
   "id": "33253908-74fb-4281-a9e0-c348af93c2e9",
   "metadata": {
    "tags": []
   },
   "outputs": [
    {
     "name": "stdout",
     "output_type": "stream",
     "text": [
      "3.3333333333333335\n"
     ]
    }
   ],
   "source": [
    "mins=200\n",
    "hours=200/60\n",
    "print(hours)"
   ]
  },
  {
   "cell_type": "markdown",
   "id": "5475e303-2268-4f70-aec6-4d72a0805722",
   "metadata": {},
   "source": [
    "# Objectives:"
   ]
  },
  {
   "cell_type": "markdown",
   "id": "4a50a73f-ca8d-49e5-9828-30cdbcbde7e3",
   "metadata": {},
   "source": [
    "- The popular languages of data science are Python, Java, SQL, R, and Scala.\n",
    "- The popular data science tools are: Apache Spark, IBM Watson Studio and Hadoop\n",
    "- Through data science models, we can predict the future behaviours and trends. "
   ]
  },
  {
   "cell_type": "markdown",
   "id": "7d010552-dc5d-4188-9cfc-b446d794f5ac",
   "metadata": {},
   "source": [
    "## Author\n"
   ]
  },
  {
   "cell_type": "markdown",
   "id": "2f3cdb78-b626-4f87-b610-305fabbae64e",
   "metadata": {},
   "source": [
    "Marishka J Crasta"
   ]
  },
  {
   "cell_type": "code",
   "execution_count": null,
   "id": "530a75fd-f43f-480b-a4a3-01937409f075",
   "metadata": {},
   "outputs": [],
   "source": []
  }
 ],
 "metadata": {
  "kernelspec": {
   "display_name": "Python",
   "language": "python",
   "name": "conda-env-python-py"
  },
  "language_info": {
   "codemirror_mode": {
    "name": "ipython",
    "version": 3
   },
   "file_extension": ".py",
   "mimetype": "text/x-python",
   "name": "python",
   "nbconvert_exporter": "python",
   "pygments_lexer": "ipython3",
   "version": "3.7.12"
  }
 },
 "nbformat": 4,
 "nbformat_minor": 5
}
